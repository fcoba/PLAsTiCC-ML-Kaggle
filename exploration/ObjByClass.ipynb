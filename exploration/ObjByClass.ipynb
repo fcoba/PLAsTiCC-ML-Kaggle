{
 "cells": [
  {
   "cell_type": "code",
   "execution_count": 51,
   "metadata": {
    "collapsed": true
   },
   "outputs": [],
   "source": [
    "import pandas as pd\n",
    "import numpy as np\n",
    "from nfft import nfft, ndft"
   ]
  },
  {
   "cell_type": "code",
   "execution_count": 3,
   "metadata": {
    "collapsed": true
   },
   "outputs": [],
   "source": [
    "train = pd.read_csv('../data/training_set.csv')\n",
    "train_meta = pd.read_csv('../data/training_set_metadata.csv')"
   ]
  },
  {
   "cell_type": "code",
   "execution_count": 59,
   "metadata": {},
   "outputs": [
    {
     "data": {
      "text/html": [
       "<div>\n",
       "<style>\n",
       "    .dataframe thead tr:only-child th {\n",
       "        text-align: right;\n",
       "    }\n",
       "\n",
       "    .dataframe thead th {\n",
       "        text-align: left;\n",
       "    }\n",
       "\n",
       "    .dataframe tbody tr th {\n",
       "        vertical-align: top;\n",
       "    }\n",
       "</style>\n",
       "<table border=\"1\" class=\"dataframe\">\n",
       "  <thead>\n",
       "    <tr style=\"text-align: right;\">\n",
       "      <th></th>\n",
       "      <th>object_id</th>\n",
       "      <th>mjd</th>\n",
       "      <th>passband</th>\n",
       "      <th>flux</th>\n",
       "      <th>flux_err</th>\n",
       "      <th>detected</th>\n",
       "    </tr>\n",
       "  </thead>\n",
       "  <tbody>\n",
       "    <tr>\n",
       "      <th>1191651</th>\n",
       "      <td>90160807</td>\n",
       "      <td>60571.3148</td>\n",
       "      <td>5</td>\n",
       "      <td>12.469117</td>\n",
       "      <td>13.608829</td>\n",
       "      <td>0</td>\n",
       "    </tr>\n",
       "    <tr>\n",
       "      <th>20560</th>\n",
       "      <td>10798</td>\n",
       "      <td>59887.0375</td>\n",
       "      <td>1</td>\n",
       "      <td>-1.017624</td>\n",
       "      <td>2.975746</td>\n",
       "      <td>0</td>\n",
       "    </tr>\n",
       "    <tr>\n",
       "      <th>1080316</th>\n",
       "      <td>70757696</td>\n",
       "      <td>60331.0623</td>\n",
       "      <td>5</td>\n",
       "      <td>3.843730</td>\n",
       "      <td>36.251888</td>\n",
       "      <td>0</td>\n",
       "    </tr>\n",
       "    <tr>\n",
       "      <th>379562</th>\n",
       "      <td>195555</td>\n",
       "      <td>59782.2372</td>\n",
       "      <td>2</td>\n",
       "      <td>0.030941</td>\n",
       "      <td>1.224807</td>\n",
       "      <td>0</td>\n",
       "    </tr>\n",
       "    <tr>\n",
       "      <th>328191</th>\n",
       "      <td>169967</td>\n",
       "      <td>60651.1527</td>\n",
       "      <td>3</td>\n",
       "      <td>402.582611</td>\n",
       "      <td>10.717243</td>\n",
       "      <td>1</td>\n",
       "    </tr>\n",
       "  </tbody>\n",
       "</table>\n",
       "</div>"
      ],
      "text/plain": [
       "         object_id         mjd  passband        flux   flux_err  detected\n",
       "1191651   90160807  60571.3148         5   12.469117  13.608829         0\n",
       "20560        10798  59887.0375         1   -1.017624   2.975746         0\n",
       "1080316   70757696  60331.0623         5    3.843730  36.251888         0\n",
       "379562      195555  59782.2372         2    0.030941   1.224807         0\n",
       "328191      169967  60651.1527         3  402.582611  10.717243         1"
      ]
     },
     "execution_count": 59,
     "metadata": {},
     "output_type": "execute_result"
    }
   ],
   "source": [
    "train.sample(5)"
   ]
  },
  {
   "cell_type": "markdown",
   "metadata": {
    "collapsed": true
   },
   "source": [
    "What we want ... for each (a) object_id and (b) passband,\n",
    "1. mjd\n",
    "2. flux\n",
    "3. flux_err"
   ]
  },
  {
   "cell_type": "code",
   "execution_count": 9,
   "metadata": {},
   "outputs": [
    {
     "name": "stdout",
     "output_type": "stream",
     "text": [
      "There are 7848 object_id's\n"
     ]
    }
   ],
   "source": [
    "obj_ids = train['object_id'].unique()\n",
    "print(f'There are {obj_ids.size} object_id\\'s')"
   ]
  },
  {
   "cell_type": "code",
   "execution_count": 67,
   "metadata": {},
   "outputs": [
    {
     "data": {
      "text/plain": [
       "307543"
      ]
     },
     "execution_count": 67,
     "metadata": {},
     "output_type": "execute_result"
    }
   ],
   "source": [
    "obj_ids[1893]"
   ]
  },
  {
   "cell_type": "code",
   "execution_count": 68,
   "metadata": {},
   "outputs": [
    {
     "data": {
      "text/html": [
       "<div>\n",
       "<style>\n",
       "    .dataframe thead tr:only-child th {\n",
       "        text-align: right;\n",
       "    }\n",
       "\n",
       "    .dataframe thead th {\n",
       "        text-align: left;\n",
       "    }\n",
       "\n",
       "    .dataframe tbody tr th {\n",
       "        vertical-align: top;\n",
       "    }\n",
       "</style>\n",
       "<table border=\"1\" class=\"dataframe\">\n",
       "  <thead>\n",
       "    <tr style=\"text-align: right;\">\n",
       "      <th></th>\n",
       "      <th>mjd</th>\n",
       "      <th>flux</th>\n",
       "    </tr>\n",
       "  </thead>\n",
       "  <tbody>\n",
       "    <tr>\n",
       "      <th>327873</th>\n",
       "      <td>59825.2971</td>\n",
       "      <td>-416.696411</td>\n",
       "    </tr>\n",
       "    <tr>\n",
       "      <th>327878</th>\n",
       "      <td>59839.2532</td>\n",
       "      <td>-116.944817</td>\n",
       "    </tr>\n",
       "    <tr>\n",
       "      <th>327883</th>\n",
       "      <td>59842.2359</td>\n",
       "      <td>-24.664654</td>\n",
       "    </tr>\n",
       "    <tr>\n",
       "      <th>327889</th>\n",
       "      <td>59854.2461</td>\n",
       "      <td>94.335342</td>\n",
       "    </tr>\n",
       "    <tr>\n",
       "      <th>327894</th>\n",
       "      <td>59857.2251</td>\n",
       "      <td>-132.933090</td>\n",
       "    </tr>\n",
       "  </tbody>\n",
       "</table>\n",
       "</div>"
      ],
      "text/plain": [
       "               mjd        flux\n",
       "327873  59825.2971 -416.696411\n",
       "327878  59839.2532 -116.944817\n",
       "327883  59842.2359  -24.664654\n",
       "327889  59854.2461   94.335342\n",
       "327894  59857.2251 -132.933090"
      ]
     },
     "execution_count": 68,
     "metadata": {},
     "output_type": "execute_result"
    }
   ],
   "source": [
    "# For now, I want ['mjd', 'flux'] for object_id == 615, and passband == 1\n",
    "filt = (train['object_id'] == 169967) & (train['passband'] == 5)\n",
    "flx = train[filt][['mjd', 'flux']]\n",
    "flx.head()\n"
   ]
  },
  {
   "cell_type": "code",
   "execution_count": null,
   "metadata": {
    "collapsed": true
   },
   "outputs": [],
   "source": []
  },
  {
   "cell_type": "code",
   "execution_count": null,
   "metadata": {
    "collapsed": true
   },
   "outputs": [],
   "source": []
  },
  {
   "cell_type": "code",
   "execution_count": null,
   "metadata": {
    "collapsed": true
   },
   "outputs": [],
   "source": []
  },
  {
   "cell_type": "code",
   "execution_count": 36,
   "metadata": {
    "collapsed": true
   },
   "outputs": [],
   "source": [
    "import matplotlib.pyplot as plt\n",
    "%matplotlib inline"
   ]
  },
  {
   "cell_type": "code",
   "execution_count": 37,
   "metadata": {},
   "outputs": [
    {
     "ename": "AttributeError",
     "evalue": "'function' object has no attribute 'ndft'",
     "output_type": "error",
     "traceback": [
      "\u001b[1;31m---------------------------------------------------------------------------\u001b[0m",
      "\u001b[1;31mAttributeError\u001b[0m                            Traceback (most recent call last)",
      "\u001b[1;32m<ipython-input-37-026eca4559e5>\u001b[0m in \u001b[0;36m<module>\u001b[1;34m()\u001b[0m\n\u001b[0;32m      3\u001b[0m \u001b[0mk\u001b[0m \u001b[1;33m=\u001b[0m \u001b[1;33m-\u001b[0m\u001b[0mN\u001b[0m \u001b[1;33m//\u001b[0m \u001b[1;36m2\u001b[0m \u001b[1;33m+\u001b[0m \u001b[0mnp\u001b[0m\u001b[1;33m.\u001b[0m\u001b[0marange\u001b[0m\u001b[1;33m(\u001b[0m\u001b[0mN\u001b[0m\u001b[1;33m)\u001b[0m\u001b[1;33m\u001b[0m\u001b[0m\n\u001b[0;32m      4\u001b[0m \u001b[1;33m\u001b[0m\u001b[0m\n\u001b[1;32m----> 5\u001b[1;33m \u001b[0mf_x_dir\u001b[0m \u001b[1;33m=\u001b[0m \u001b[0mnfft\u001b[0m\u001b[1;33m.\u001b[0m\u001b[0mndft\u001b[0m\u001b[1;33m(\u001b[0m\u001b[1;33m)\u001b[0m\u001b[1;33m\u001b[0m\u001b[0m\n\u001b[0m",
      "\u001b[1;31mAttributeError\u001b[0m: 'function' object has no attribute 'ndft'"
     ]
    }
   ],
   "source": [
    "# Test nfft\n",
    "N = 10000\n",
    "k = -N // 2 + np.arange(N)\n",
    "\n",
    "f_x_dir = nfft.ndft()"
   ]
  },
  {
   "cell_type": "code",
   "execution_count": 89,
   "metadata": {
    "collapsed": true
   },
   "outputs": [],
   "source": [
    "x = np.arange(1000) + 0.3*np.random.random(1000)\n",
    "y = np.sin((1./50)*(2*np.pi)*x) + np.sin((1./23)*(2*np.pi)*x) + 1"
   ]
  },
  {
   "cell_type": "code",
   "execution_count": 90,
   "metadata": {},
   "outputs": [
    {
     "data": {
      "text/plain": [
       "<matplotlib.collections.PathCollection at 0x1d6b5b01128>"
      ]
     },
     "execution_count": 90,
     "metadata": {},
     "output_type": "execute_result"
    },
    {
     "data": {
      "image/png": "[encoded data removed]",
      "text/plain": [
       "<matplotlib.figure.Figure at 0x1d6b5553780>"
      ]
     },
     "metadata": {},
     "output_type": "display_data"
    }
   ],
   "source": [
    "plt.scatter(x,y)"
   ]
  },
  {
   "cell_type": "code",
   "execution_count": 78,
   "metadata": {
    "collapsed": true
   },
   "outputs": [],
   "source": [
    "y_fft = nfft(x,y)\n",
    "y_dft = ndft(x,y)"
   ]
  },
  {
   "cell_type": "code",
   "execution_count": 91,
   "metadata": {
    "collapsed": true
   },
   "outputs": [],
   "source": [
    "freq, power = LombScargle(x, y).autopower()"
   ]
  },
  {
   "cell_type": "code",
   "execution_count": 100,
   "metadata": {},
   "outputs": [
    {
     "data": {
      "text/plain": [
       "<matplotlib.lines.Line2D at 0x1d6b709ffd0>"
      ]
     },
     "execution_count": 100,
     "metadata": {},
     "output_type": "execute_result"
    },
    {
     "data": {
      "image/png": "[encoded data removed]",
      "text/plain": [
       "<matplotlib.figure.Figure at 0x1d6b6cf7908>"
      ]
     },
     "metadata": {},
     "output_type": "display_data"
    }
   ],
   "source": [
    "plt.plot(freq, power)\n",
    "plt.xlim([0, 0.1])\n",
    "plt.axvline(1/50., c='black', linestyle='--')\n",
    "plt.axvline(1/23., c='red', linestyle='--')"
   ]
  },
  {
   "cell_type": "code",
   "execution_count": null,
   "metadata": {
    "collapsed": true
   },
   "outputs": [],
   "source": []
  },
  {
   "cell_type": "markdown",
   "metadata": {},
   "source": [
    "Frequencies at 50 Hz and 23 Hz (so, harmonics at 46 Hz, 69 Hz, 92 Hz, and 100 Hz"
   ]
  },
  {
   "cell_type": "code",
   "execution_count": null,
   "metadata": {
    "collapsed": true
   },
   "outputs": [],
   "source": []
  },
  {
   "cell_type": "code",
   "execution_count": 92,
   "metadata": {},
   "outputs": [
    {
     "name": "stderr",
     "output_type": "stream",
     "text": [
      "C:\\Users\\Ryan Abrahams\\Anaconda3\\lib\\site-packages\\numpy\\core\\numeric.py:501: ComplexWarning: Casting complex values to real discards the imaginary part\n",
      "  return array(a, dtype, copy=False, order=order)\n"
     ]
    },
    {
     "data": {
      "text/plain": [
       "[<matplotlib.lines.Line2D at 0x1d6b5b610b8>]"
      ]
     },
     "execution_count": 92,
     "metadata": {},
     "output_type": "execute_result"
    },
    {
     "data": {
      "image/png": "[encoded data removed]",
      "text/plain": [
       "<matplotlib.figure.Figure at 0x1d6b5ae5358>"
      ]
     },
     "metadata": {},
     "output_type": "display_data"
    }
   ],
   "source": [
    "plt.plot(y_fft)"
   ]
  },
  {
   "cell_type": "markdown",
   "metadata": {},
   "source": [
    "Ok, let's see what comes out when I perform this nfft on some data!"
   ]
  },
  {
   "cell_type": "code",
   "execution_count": 101,
   "metadata": {},
   "outputs": [
    {
     "data": {
      "text/html": [
       "<div>\n",
       "<style>\n",
       "    .dataframe thead tr:only-child th {\n",
       "        text-align: right;\n",
       "    }\n",
       "\n",
       "    .dataframe thead th {\n",
       "        text-align: left;\n",
       "    }\n",
       "\n",
       "    .dataframe tbody tr th {\n",
       "        vertical-align: top;\n",
       "    }\n",
       "</style>\n",
       "<table border=\"1\" class=\"dataframe\">\n",
       "  <thead>\n",
       "    <tr style=\"text-align: right;\">\n",
       "      <th></th>\n",
       "      <th>mjd</th>\n",
       "      <th>flux</th>\n",
       "    </tr>\n",
       "  </thead>\n",
       "  <tbody>\n",
       "    <tr>\n",
       "      <th>327873</th>\n",
       "      <td>59825.2971</td>\n",
       "      <td>-416.696411</td>\n",
       "    </tr>\n",
       "    <tr>\n",
       "      <th>327878</th>\n",
       "      <td>59839.2532</td>\n",
       "      <td>-116.944817</td>\n",
       "    </tr>\n",
       "    <tr>\n",
       "      <th>327883</th>\n",
       "      <td>59842.2359</td>\n",
       "      <td>-24.664654</td>\n",
       "    </tr>\n",
       "    <tr>\n",
       "      <th>327889</th>\n",
       "      <td>59854.2461</td>\n",
       "      <td>94.335342</td>\n",
       "    </tr>\n",
       "    <tr>\n",
       "      <th>327894</th>\n",
       "      <td>59857.2251</td>\n",
       "      <td>-132.933090</td>\n",
       "    </tr>\n",
       "  </tbody>\n",
       "</table>\n",
       "</div>"
      ],
      "text/plain": [
       "               mjd        flux\n",
       "327873  59825.2971 -416.696411\n",
       "327878  59839.2532 -116.944817\n",
       "327883  59842.2359  -24.664654\n",
       "327889  59854.2461   94.335342\n",
       "327894  59857.2251 -132.933090"
      ]
     },
     "execution_count": 101,
     "metadata": {},
     "output_type": "execute_result"
    }
   ],
   "source": [
    "# recall:\n",
    "flx.head()"
   ]
  },
  {
   "cell_type": "code",
   "execution_count": 102,
   "metadata": {
    "collapsed": true
   },
   "outputs": [],
   "source": [
    "x = flx['mjd']\n",
    "y = flx['flux']"
   ]
  },
  {
   "cell_type": "code",
   "execution_count": 103,
   "metadata": {},
   "outputs": [
    {
     "data": {
      "text/plain": [
       "<matplotlib.collections.PathCollection at 0x1d6b71e99b0>"
      ]
     },
     "execution_count": 103,
     "metadata": {},
     "output_type": "execute_result"
    },
    {
     "data": {
      "image/png": "[encoded data removed]",
      "text/plain": [
       "<matplotlib.figure.Figure at 0x1d6b5a10780>"
      ]
     },
     "metadata": {},
     "output_type": "display_data"
    }
   ],
   "source": [
    "plt.scatter(x, y)"
   ]
  },
  {
   "cell_type": "code",
   "execution_count": 86,
   "metadata": {
    "collapsed": true
   },
   "outputs": [],
   "source": [
    "from astropy.stats import LombScargle"
   ]
  },
  {
   "cell_type": "code",
   "execution_count": null,
   "metadata": {
    "collapsed": true
   },
   "outputs": [],
   "source": []
  },
  {
   "cell_type": "code",
   "execution_count": 104,
   "metadata": {},
   "outputs": [
    {
     "data": {
      "text/plain": [
       "[<matplotlib.lines.Line2D at 0x1d6b72e33c8>]"
      ]
     },
     "execution_count": 104,
     "metadata": {},
     "output_type": "execute_result"
    },
    {
     "data": {
      "image/png": "[encoded data removed]",
      "text/plain": [
       "<matplotlib.figure.Figure at 0x1d6b7121128>"
      ]
     },
     "metadata": {},
     "output_type": "display_data"
    }
   ],
   "source": [
    "freq, power = LombScargle(x, y).autopower()\n",
    "plt.plot(freq, power)"
   ]
  },
  {
   "cell_type": "code",
   "execution_count": 121,
   "metadata": {},
   "outputs": [
    {
     "data": {
      "text/plain": [
       "56"
      ]
     },
     "execution_count": 121,
     "metadata": {},
     "output_type": "execute_result"
    }
   ],
   "source": [
    "len(x)"
   ]
  },
  {
   "cell_type": "code",
   "execution_count": 116,
   "metadata": {},
   "outputs": [
    {
     "data": {
      "text/plain": [
       "True"
      ]
     },
     "execution_count": 116,
     "metadata": {},
     "output_type": "execute_result"
    }
   ],
   "source": [
    "isinstance(train, pd.DataFrame)"
   ]
  },
  {
   "cell_type": "code",
   "execution_count": null,
   "metadata": {
    "collapsed": true
   },
   "outputs": [],
   "source": []
  },
  {
   "cell_type": "code",
   "execution_count": 151,
   "metadata": {
    "collapsed": true
   },
   "outputs": [],
   "source": [
    "def fluxFor(object_id=615, passband=1, data=train, keys=['mjd', 'flux']):\n",
    "    \"\"\"\n",
    "        Custom filtering function\n",
    "        \n",
    "        parameters:\n",
    "        id: <number> object_id of interest\n",
    "        passband: <number> passband; one of [1, 2, 3, 4, 5]\n",
    "        data: <pd.DataFrame> data we want to go through\n",
    "        keys: list<string> a list of column names we want to return\n",
    "        \n",
    "        returns:\n",
    "        Pandas dataframe with the specified keys of the object_id and passband\n",
    "    \"\"\"\n",
    "    if (not isinstance(data, pd.DataFrame)):\n",
    "        raise TypeEror('date must be a pandas data frame')\n",
    "        \n",
    "    filt = (train['object_id'] == object_id) & (train['passband'] == passband)\n",
    "    return train[filt][keys]\n",
    "\n",
    "def LS_Power(x, y, dy=None, prob=False):\n",
    "    \"\"\"\n",
    "        parameters:\n",
    "        x: list<float> time data -- when the observations were taken\n",
    "        y: list<float> the value of the function; f(x)\n",
    "        \n",
    "        returns:\n",
    "        f: list<float> frequencies, in Hz\n",
    "        p: list<float> the power (spectrum).\n",
    "    \"\"\"\n",
    "    if (dy == None):\n",
    "        ls = LombScargle(x, y).autopower()\n",
    "    else:\n",
    "        ls = LombScargle(x, y, dy).autopower()\n",
    "    \n",
    "    f, p = ls.autopower()\n",
    "    \n",
    "    if (prob):\n",
    "        probabilities = ls.false_alarm_probability(p.max())\n",
    "        return f, p, probabilities\n",
    "    else:\n",
    "        return f, p"
   ]
  },
  {
   "cell_type": "code",
   "execution_count": 123,
   "metadata": {
    "collapsed": true
   },
   "outputs": [],
   "source": [
    "# Now, we want to go through all object_id's and all passbands. Create a hierarchical object . . .\n",
    "# [object_id, passband, ]"
   ]
  },
  {
   "cell_type": "code",
   "execution_count": null,
   "metadata": {
    "collapsed": true
   },
   "outputs": [],
   "source": []
  },
  {
   "cell_type": "code",
   "execution_count": 131,
   "metadata": {
    "collapsed": true
   },
   "outputs": [],
   "source": [
    "# Grab two random object id's\n",
    "i = np.floor(len(obj_ids) * np.random.random(2)).astype(int)\n",
    "\n",
    "# let's looks at the frequencies -- are they the same???\n",
    "a = fluxFor(obj_ids[0], 1, train)\n",
    "b = fluxFor(obj_ids[1], 1, train)"
   ]
  },
  {
   "cell_type": "code",
   "execution_count": 132,
   "metadata": {},
   "outputs": [
    {
     "data": {
      "text/plain": [
       "<matplotlib.collections.PathCollection at 0x1d6b76920b8>"
      ]
     },
     "execution_count": 132,
     "metadata": {},
     "output_type": "execute_result"
    },
    {
     "data": {
      "image/png": "[encoded data removed]",
      "text/plain": [
       "<matplotlib.figure.Figure at 0x1d6b76a35c0>"
      ]
     },
     "metadata": {},
     "output_type": "display_data"
    }
   ],
   "source": [
    "plt.scatter(a['mjd'], a['flux'])"
   ]
  },
  {
   "cell_type": "code",
   "execution_count": 134,
   "metadata": {
    "collapsed": true
   },
   "outputs": [],
   "source": [
    "freq_a, pow_a = LS_Power(a['mjd'], a['flux'])\n",
    "freq_b, pow_b = LS_Power(b['mjd'], b['flux'])"
   ]
  },
  {
   "cell_type": "code",
   "execution_count": 165,
   "metadata": {},
   "outputs": [
    {
     "name": "stdout",
     "output_type": "stream",
     "text": [
      "725\n"
     ]
    },
    {
     "data": {
      "image/png": "[encoded data removed]",
      "text/plain": [
       "<matplotlib.figure.Figure at 0x1d6b77a3860>"
      ]
     },
     "metadata": {},
     "output_type": "display_data"
    }
   ],
   "source": [
    "plt.plot(freq_a, pow_a)\n",
    "plt.ylim([0, 1])\n",
    "print(len(freq_a))"
   ]
  },
  {
   "cell_type": "code",
   "execution_count": null,
   "metadata": {
    "collapsed": true
   },
   "outputs": [],
   "source": []
  },
  {
   "cell_type": "code",
   "execution_count": null,
   "metadata": {
    "collapsed": true
   },
   "outputs": [],
   "source": []
  },
  {
   "cell_type": "code",
   "execution_count": 133,
   "metadata": {},
   "outputs": [
    {
     "data": {
      "text/plain": [
       "<matplotlib.collections.PathCollection at 0x1d6b9ab9358>"
      ]
     },
     "execution_count": 133,
     "metadata": {},
     "output_type": "execute_result"
    },
    {
     "data": {
      "image/png": "[encoded data removed]",
      "text/plain": [
       "<matplotlib.figure.Figure at 0x1d6b7851390>"
      ]
     },
     "metadata": {},
     "output_type": "display_data"
    }
   ],
   "source": [
    "plt.scatter(b['mjd'], b['flux'])"
   ]
  },
  {
   "cell_type": "code",
   "execution_count": 164,
   "metadata": {},
   "outputs": [
    {
     "name": "stdout",
     "output_type": "stream",
     "text": [
      "700\n"
     ]
    },
    {
     "data": {
      "image/png": "[encoded data removed]",
      "text/plain": [
       "<matplotlib.figure.Figure at 0x1d6b779e518>"
      ]
     },
     "metadata": {},
     "output_type": "display_data"
    }
   ],
   "source": [
    "plt.plot(freq_b, pow_b)\n",
    "plt.ylim([0, 1])\n",
    "print(len(freq_b))"
   ]
  },
  {
   "cell_type": "code",
   "execution_count": 140,
   "metadata": {},
   "outputs": [
    {
     "name": "stdout",
     "output_type": "stream",
     "text": [
      "Length of freq_a is 725\n",
      "Length of freq_b is 700\n"
     ]
    }
   ],
   "source": [
    "print(f'Length of freq_a is {len(freq_a)}')\n",
    "print(f'Length of freq_b is {len(freq_b)}')"
   ]
  },
  {
   "cell_type": "code",
   "execution_count": 163,
   "metadata": {},
   "outputs": [
    {
     "data": {
      "text/plain": [
       "array([1204.00671429])"
      ]
     },
     "execution_count": 163,
     "metadata": {},
     "output_type": "execute_result"
    }
   ],
   "source": [
    "1./freq_b[pow_b == pow_b.max()]"
   ]
  },
  {
   "cell_type": "code",
   "execution_count": null,
   "metadata": {
    "collapsed": true
   },
   "outputs": [],
   "source": []
  },
  {
   "cell_type": "code",
   "execution_count": null,
   "metadata": {
    "collapsed": true
   },
   "outputs": [],
   "source": []
  }
 ],
 "metadata": {
  "kernelspec": {
   "display_name": "Python 3",
   "language": "python",
   "name": "python3"
  },
  "language_info": {
   "codemirror_mode": {
    "name": "ipython",
    "version": 3
   },
   "file_extension": ".py",
   "mimetype": "text/x-python",
   "name": "python",
   "nbconvert_exporter": "python",
   "pygments_lexer": "ipython3",
   "version": "3.6.3"
  }
 },
 "nbformat": 4,
 "nbformat_minor": 2
}
