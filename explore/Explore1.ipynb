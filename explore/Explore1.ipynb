{
 "cells": [
  {
   "cell_type": "code",
   "execution_count": 2,
   "metadata": {
    "collapsed": true
   },
   "outputs": [],
   "source": [
    "import os\n",
    "import numpy as np\n",
    "import pandas as pd\n",
    "import scipy\n",
    "import sklearn as sk\n",
    "import matplotlib.pyplot as plt\n",
    "%matplotlib inline\n"
   ]
  },
  {
   "cell_type": "code",
   "execution_count": 5,
   "metadata": {},
   "outputs": [
    {
     "data": {
      "text/plain": [
       "['.DS_Store', 'training_set.csv', 'training_set_metadata.csv']"
      ]
     },
     "execution_count": 5,
     "metadata": {},
     "output_type": "execute_result"
    }
   ],
   "source": [
    "os.listdir('../data')"
   ]
  },
  {
   "cell_type": "code",
   "execution_count": 6,
   "metadata": {
    "collapsed": true
   },
   "outputs": [],
   "source": [
    "train = pd.read_csv('../data/training_set.csv')\n",
    "train_meta = pd.read_csv('../data/training_set_metadata.csv')"
   ]
  },
  {
   "cell_type": "code",
   "execution_count": 14,
   "metadata": {},
   "outputs": [
    {
     "name": "stdout",
     "output_type": "stream",
     "text": [
      "Columns for training set:\n",
      "['object_id', 'mjd', 'passband', 'flux', 'flux_err', 'detected']\n",
      "\n",
      "Columns for trainint metadata:\n",
      "['object_id', 'ra', 'decl', 'gal_l', 'gal_b', 'ddf', 'hostgal_specz', 'hostgal_photoz', 'hostgal_photoz_err', 'distmod', 'mwebv', 'target']\n"
     ]
    }
   ],
   "source": [
    "print('Columns for training set:\\n{}\\n'.format(list(train.columns)))\n",
    "print('Columns for trainint metadata:\\n{}'.format(list(train_meta.columns)))"
   ]
  },
  {
   "cell_type": "markdown",
   "metadata": {},
   "source": [
    "### Can I Observe an Object on This Day?\n",
    "<p>MJD vs. right ascension / declination</p>\n",
    "\n",
    "<p>In principle, there should be a relationship between the large data gaps and the position of the object in the sky. So we should be able to come up a formula on when we expect the object to disappear/reappear in the LSST sky.</p>\n",
    "\n",
    "<p>Note, the LSST appears at:<br/>\n",
    "(Latitude, Longitude) = -30.2399323736 -70.7429636948\n",
    "</p>\n",
    "\n",
    "<p>We can technically use this to compute the observability of an object on any given day (MJD). This doesn't mean it WILL be observed, but it can give us a way to construct a map, with which we can do computations</p>\n",
    "\n",
    "<p>Or, we could go ahead, and try to learn a relationship with machine learning...</p>"
   ]
  },
  {
   "cell_type": "code",
   "execution_count": 15,
   "metadata": {
    "collapsed": true
   },
   "outputs": [],
   "source": [
    "# Want 'ra' and 'decl' of an object id. Also need object_id and flux"
   ]
  },
  {
   "cell_type": "code",
   "execution_count": 34,
   "metadata": {},
   "outputs": [
    {
     "name": "stdout",
     "output_type": "stream",
     "text": [
      "There are 352 observations\n"
     ]
    },
    {
     "data": {
      "text/plain": [
       "<matplotlib.lines.Line2D at 0x11aabcf98>"
      ]
     },
     "execution_count": 34,
     "metadata": {},
     "output_type": "execute_result"
    },
    {
     "data": {
      "image/png": "[encoded data removed]",
      "text/plain": [
       "<matplotlib.figure.Figure at 0x11aa6a630>"
      ]
     },
     "metadata": {},
     "output_type": "display_data"
    }
   ],
   "source": [
    "obj_id = train['object_id'].iloc[0]\n",
    "# plot the flux vs mjd\n",
    "\n",
    "filt = train['object_id'] == obj_id\n",
    "cols = ['mjd', 'flux']\n",
    "data = train.loc[filt]\n",
    "\n",
    "print('There are {} observations'.format(len(data)))\n",
    "# plt.scatter(data['mjd'], data['flux'], marker='.', c='black')\n",
    "\n",
    "# # The beginning and end\n",
    "# plt.axvline(data['mjd'].min(), linestyle='-', c='red')\n",
    "# plt.axvline(data['mjd'].max(), linestyle='-', c='red')\n"
   ]
  },
  {
   "cell_type": "markdown",
   "metadata": {},
   "source": [
    "<p>We see that the gaps appear as such -- just NO data. We can go through, and get the START and STOP time of these observation intervals. We'll use the same data from this plot.</p>"
   ]
  },
  {
   "cell_type": "code",
   "execution_count": 35,
   "metadata": {},
   "outputs": [
    {
     "data": {
      "text/html": [
       "<div>\n",
       "<style scoped>\n",
       "    .dataframe tbody tr th:only-of-type {\n",
       "        vertical-align: middle;\n",
       "    }\n",
       "\n",
       "    .dataframe tbody tr th {\n",
       "        vertical-align: top;\n",
       "    }\n",
       "\n",
       "    .dataframe thead th {\n",
       "        text-align: right;\n",
       "    }\n",
       "</style>\n",
       "<table border=\"1\" class=\"dataframe\">\n",
       "  <thead>\n",
       "    <tr style=\"text-align: right;\">\n",
       "      <th></th>\n",
       "      <th>object_id</th>\n",
       "      <th>mjd</th>\n",
       "      <th>passband</th>\n",
       "      <th>flux</th>\n",
       "      <th>flux_err</th>\n",
       "      <th>detected</th>\n",
       "    </tr>\n",
       "  </thead>\n",
       "  <tbody>\n",
       "    <tr>\n",
       "      <th>0</th>\n",
       "      <td>615</td>\n",
       "      <td>59750.4229</td>\n",
       "      <td>2</td>\n",
       "      <td>-544.810303</td>\n",
       "      <td>3.622952</td>\n",
       "      <td>1</td>\n",
       "    </tr>\n",
       "    <tr>\n",
       "      <th>1</th>\n",
       "      <td>615</td>\n",
       "      <td>59750.4306</td>\n",
       "      <td>1</td>\n",
       "      <td>-816.434326</td>\n",
       "      <td>5.553370</td>\n",
       "      <td>1</td>\n",
       "    </tr>\n",
       "    <tr>\n",
       "      <th>2</th>\n",
       "      <td>615</td>\n",
       "      <td>59750.4383</td>\n",
       "      <td>3</td>\n",
       "      <td>-471.385529</td>\n",
       "      <td>3.801213</td>\n",
       "      <td>1</td>\n",
       "    </tr>\n",
       "    <tr>\n",
       "      <th>3</th>\n",
       "      <td>615</td>\n",
       "      <td>59750.4450</td>\n",
       "      <td>4</td>\n",
       "      <td>-388.984985</td>\n",
       "      <td>11.395031</td>\n",
       "      <td>1</td>\n",
       "    </tr>\n",
       "    <tr>\n",
       "      <th>4</th>\n",
       "      <td>615</td>\n",
       "      <td>59752.4070</td>\n",
       "      <td>2</td>\n",
       "      <td>-681.858887</td>\n",
       "      <td>4.041204</td>\n",
       "      <td>1</td>\n",
       "    </tr>\n",
       "    <tr>\n",
       "      <th>5</th>\n",
       "      <td>615</td>\n",
       "      <td>59752.4147</td>\n",
       "      <td>1</td>\n",
       "      <td>-1061.457031</td>\n",
       "      <td>6.472994</td>\n",
       "      <td>1</td>\n",
       "    </tr>\n",
       "    <tr>\n",
       "      <th>6</th>\n",
       "      <td>615</td>\n",
       "      <td>59752.4224</td>\n",
       "      <td>3</td>\n",
       "      <td>-524.954590</td>\n",
       "      <td>3.552751</td>\n",
       "      <td>1</td>\n",
       "    </tr>\n",
       "    <tr>\n",
       "      <th>7</th>\n",
       "      <td>615</td>\n",
       "      <td>59752.4334</td>\n",
       "      <td>4</td>\n",
       "      <td>-393.480225</td>\n",
       "      <td>3.599346</td>\n",
       "      <td>1</td>\n",
       "    </tr>\n",
       "    <tr>\n",
       "      <th>8</th>\n",
       "      <td>615</td>\n",
       "      <td>59752.4435</td>\n",
       "      <td>5</td>\n",
       "      <td>-355.886780</td>\n",
       "      <td>10.421921</td>\n",
       "      <td>1</td>\n",
       "    </tr>\n",
       "    <tr>\n",
       "      <th>9</th>\n",
       "      <td>615</td>\n",
       "      <td>59767.2968</td>\n",
       "      <td>2</td>\n",
       "      <td>-548.013550</td>\n",
       "      <td>3.462291</td>\n",
       "      <td>1</td>\n",
       "    </tr>\n",
       "  </tbody>\n",
       "</table>\n",
       "</div>"
      ],
      "text/plain": [
       "   object_id         mjd  passband         flux   flux_err  detected\n",
       "0        615  59750.4229         2  -544.810303   3.622952         1\n",
       "1        615  59750.4306         1  -816.434326   5.553370         1\n",
       "2        615  59750.4383         3  -471.385529   3.801213         1\n",
       "3        615  59750.4450         4  -388.984985  11.395031         1\n",
       "4        615  59752.4070         2  -681.858887   4.041204         1\n",
       "5        615  59752.4147         1 -1061.457031   6.472994         1\n",
       "6        615  59752.4224         3  -524.954590   3.552751         1\n",
       "7        615  59752.4334         4  -393.480225   3.599346         1\n",
       "8        615  59752.4435         5  -355.886780  10.421921         1\n",
       "9        615  59767.2968         2  -548.013550   3.462291         1"
      ]
     },
     "execution_count": 35,
     "metadata": {},
     "output_type": "execute_result"
    }
   ],
   "source": [
    "# How many observations at the very first day?\n",
    "data.head(10)"
   ]
  },
  {
   "cell_type": "markdown",
   "metadata": {},
   "source": [
    "<p>For each night, we get more than one observation, because we have a number of passbands. Each passband gives us different information. Unfortunately, we don't have every passband for every night.</p>"
   ]
  },
  {
   "cell_type": "code",
   "execution_count": 40,
   "metadata": {
    "collapsed": true
   },
   "outputs": [],
   "source": [
    "# Index for which there is a large jump\n",
    "large_gap = []\n",
    "for i in range(len(data) - 2):\n",
    "    if (data['mjd'].iloc[i + 1] - data['mjd'].iloc[i] > 31):\n",
    "        large_gap.append(i)"
   ]
  },
  {
   "cell_type": "code",
   "execution_count": 41,
   "metadata": {},
   "outputs": [
    {
     "data": {
      "text/plain": [
       "[121, 230]"
      ]
     },
     "execution_count": 41,
     "metadata": {},
     "output_type": "execute_result"
    }
   ],
   "source": [
    "large_gap"
   ]
  },
  {
   "cell_type": "code",
   "execution_count": 66,
   "metadata": {},
   "outputs": [
    {
     "data": {
      "text/plain": [
       "<matplotlib.text.Text at 0x11e7f3710>"
      ]
     },
     "execution_count": 66,
     "metadata": {},
     "output_type": "execute_result"
    },
    {
     "data": {
      "image/png": "[encoded data removed]",
      "text/plain": [
       "<matplotlib.figure.Figure at 0x11a7eae10>"
      ]
     },
     "metadata": {},
     "output_type": "display_data"
    }
   ],
   "source": [
    "fig = plt.figure(figsize=(7,4))\n",
    "ax = fig.add_subplot(111)\n",
    "\n",
    "ax.scatter(data['mjd'], data['flux'], marker='.', c='black')\n",
    "\n",
    "# The beginning and end\n",
    "ax.axvline(data['mjd'].min(), linestyle='-', c='red')\n",
    "ax.axvline(data['mjd'].max(), linestyle='-', c='red')\n",
    "for index in large_gap:\n",
    "    ax.axvline(data['mjd'].iloc[index], linestyle='-', c='red')\n",
    "    ax.axvline(data['mjd'].iloc[index + 1], linestyle='-', c='red')\n",
    "    \n",
    "ax.set_xlabel('MJD')\n",
    "ax.set_ylabel('Flux - Background')\n",
    "ax.set_title('Flux for Object {} with Gaps'.format(obj_id))"
   ]
  },
  {
   "cell_type": "code",
   "execution_count": 64,
   "metadata": {},
   "outputs": [
    {
     "data": {
      "text/plain": [
       "<matplotlib.text.Text at 0x11a5a27f0>"
      ]
     },
     "execution_count": 64,
     "metadata": {},
     "output_type": "execute_result"
    },
    {
     "data": {
      "image/png": "[encoded data removed]",
      "text/plain": [
       "<matplotlib.figure.Figure at 0x11b09c208>"
      ]
     },
     "metadata": {},
     "output_type": "display_data"
    }
   ],
   "source": [
    "x = data['mjd'][:-1]\n",
    "time_diff = np.array(data['mjd'])[1:] - np.array(data['mjd'])[:-1]\n",
    "\n",
    "fig = plt.figure(figsize=(7,3))\n",
    "ax = fig.add_subplot(111)\n",
    "ax.scatter(x, time_diff, marker='.', c='black')\n",
    "ax.set_xlabel('MJD')\n",
    "ax.set_ylabel('Time Difference (days)')\n",
    "ax.set_title('Time Gap Between Observations')"
   ]
  },
  {
   "cell_type": "code",
   "execution_count": null,
   "metadata": {},
   "outputs": [],
   "source": []
  },
  {
   "cell_type": "code",
   "execution_count": null,
   "metadata": {
    "collapsed": true
   },
   "outputs": [],
   "source": []
  }
 ],
 "metadata": {
  "kernelspec": {
   "display_name": "Python 3",
   "language": "python",
   "name": "python3"
  },
  "language_info": {
   "codemirror_mode": {
    "name": "ipython",
    "version": 3
   },
   "file_extension": ".py",
   "mimetype": "text/x-python",
   "name": "python",
   "nbconvert_exporter": "python",
   "pygments_lexer": "ipython3",
   "version": "3.6.5"
  }
 },
 "nbformat": 4,
 "nbformat_minor": 2
}
